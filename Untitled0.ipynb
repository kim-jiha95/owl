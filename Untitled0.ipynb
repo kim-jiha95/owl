{
  "nbformat": 4,
  "nbformat_minor": 0,
  "metadata": {
    "colab": {
      "name": "Untitled0.ipynb",
      "provenance": [],
      "authorship_tag": "ABX9TyM4y1DvW77qTlPEizcJsGSf",
      "include_colab_link": true
    },
    "kernelspec": {
      "name": "python3",
      "display_name": "Python 3"
    }
  },
  "cells": [
    {
      "cell_type": "markdown",
      "metadata": {
        "id": "view-in-github",
        "colab_type": "text"
      },
      "source": [
        "<a href=\"https://colab.research.google.com/github/kim-jiha95/owl/blob/master/Untitled0.ipynb\" target=\"_parent\"><img src=\"https://colab.research.google.com/assets/colab-badge.svg\" alt=\"Open In Colab\"/></a>"
      ]
    },
    {
      "cell_type": "markdown",
      "metadata": {
        "id": "c61tMFWfiUt7",
        "colab_type": "text"
      },
      "source": [
        "\n",
        "\n",
        "#환영인사 함수\n",
        "def hello(name) :\n",
        "      return f'환영합니다. {name}님!'\n",
        "\n",
        "\n",
        "\n",
        "\n",
        "\n",
        "\n",
        "\n",
        "\n"
      ]
    },
    {
      "cell_type": "code",
      "metadata": {
        "id": "sQPh0vAAhqGK",
        "colab_type": "code",
        "colab": {}
      },
      "source": [
        "name = input('이름을 입력해주세요')\n",
        "hello(name)\n"
      ],
      "execution_count": 0,
      "outputs": []
    },
    {
      "cell_type": "markdown",
      "metadata": {
        "id": "LncDuttEhqMk",
        "colab_type": "text"
      },
      "source": [
        ""
      ]
    }
  ]
}